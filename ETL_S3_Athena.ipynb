{
	"cells": [
		{
			"cell_type": "markdown",
			"metadata": {
				"editable": true,
				"trusted": true
			},
			"source": [
				"# AWS Glue Studio Notebook\n",
				"##### You are now running a AWS Glue Studio notebook; To start using your notebook you need to start an AWS Glue Interactive Session.\n"
			]
		},
		{
			"cell_type": "code",
			"execution_count": null,
			"metadata": {
				"editable": true,
				"trusted": true,
				"vscode": {
					"languageId": "python_glue_session"
				}
			},
			"outputs": [],
			"source": [
				"%help"
			]
		},
		{
			"cell_type": "markdown",
			"metadata": {
				"editable": true,
				"tags": [],
				"trusted": true
			},
			"source": [
				"####  Run this cell to set up and start your interactive session.\n"
			]
		},
		{
			"cell_type": "code",
			"execution_count": 1,
			"metadata": {
				"editable": true,
				"trusted": true,
				"vscode": {
					"languageId": "python_glue_session"
				}
			},
			"outputs": [
				{
					"name": "stdout",
					"output_type": "stream",
					"text": [
						"Welcome to the Glue Interactive Sessions Kernel\n",
						"For more information on available magic commands, please type %help in any new cell.\n",
						"\n",
						"Please view our Getting Started page to access the most up-to-date information on the Interactive Sessions kernel: https://docs.aws.amazon.com/glue/latest/dg/interactive-sessions.html\n",
						"Installed kernel version: 0.37.3 \n",
						"Current idle_timeout is 2800 minutes.\n",
						"idle_timeout has been set to 2880 minutes.\n",
						"Setting Glue version to: 3.0\n",
						"Previous worker type: G.1X\n",
						"Setting new worker type to: G.1X\n",
						"Previous number of workers: 5\n",
						"Setting new number of workers to: 5\n",
						"Authenticating with environment variables and user-defined glue_role_arn: arn:aws:iam::275865128547:role/s3-glue-role\n",
						"Trying to create a Glue session for the kernel.\n",
						"Worker Type: G.1X\n",
						"Number of Workers: 5\n",
						"Session ID: 3201b870-087c-462d-bd21-8bffc3c22322\n",
						"Job Type: glueetl\n",
						"Applying the following default arguments:\n",
						"--glue_kernel_version 0.37.3\n",
						"--enable-glue-datacatalog true\n",
						"Waiting for session 3201b870-087c-462d-bd21-8bffc3c22322 to get into ready status...\n",
						"Session 3201b870-087c-462d-bd21-8bffc3c22322 has been created.\n",
						"\n"
					]
				}
			],
			"source": [
				"%idle_timeout 2880\n",
				"%glue_version 3.0\n",
				"%worker_type G.1X\n",
				"%number_of_workers 5\n",
				"\n",
				"import sys\n",
				"from awsglue.transforms import *\n",
				"from awsglue.utils import getResolvedOptions\n",
				"from pyspark.context import SparkContext\n",
				"from awsglue.context import GlueContext\n",
				"from awsglue.job import Job\n",
				"\n",
				"from pyspark.sql import functions \n",
				"from pyspark.sql.functions import when\n",
				"from awsglue.dynamicframe import DynamicFrame\n",
				"  \n",
				"sc = SparkContext.getOrCreate()\n",
				"glueContext = GlueContext(sc)\n",
				"spark = glueContext.spark_session\n",
				"job = Job(glueContext)"
			]
		},
		{
			"cell_type": "markdown",
			"metadata": {},
			"source": [
				"## Extract Data"
			]
		},
		{
			"cell_type": "code",
			"execution_count": 2,
			"metadata": {
				"editable": true,
				"trusted": true,
				"vscode": {
					"languageId": "python_glue_session"
				}
			},
			"outputs": [
				{
					"name": "stdout",
					"output_type": "stream",
					"text": [
						"\n"
					]
				}
			],
			"source": [
				"distance_table = glueContext.create_dynamic_frame_from_options(connection_type='s3',connection_options={'paths':[\"s3://car-sharing-bucket/data/distance/\"]},\n",
				"                                            format='csv', format_options={\"withHeader\":True,\"optimizePerformance\":True}).toDF()\n",
				"group_table = glueContext.create_dynamic_frame_from_options(connection_type='s3',connection_options={'paths':[\"s3://car-sharing-bucket/data/group/\"]},\n",
				"                                            format='csv', format_options={\"withHeader\":True,\"optimizePerformance\":True}).toDF()\n",
				"promotion_table = glueContext.create_dynamic_frame_from_options(connection_type='s3',connection_options={'paths':[\"s3://car-sharing-bucket/data/promotion/\"]},\n",
				"                                            format='csv', format_options={\"withHeader\":True,\"optimizePerformance\":True}).toDF()\n",
				"reservation_table = glueContext.create_dynamic_frame_from_options(connection_type='s3',connection_options={'paths':[\"s3://car-sharing-bucket/data/reservation/\"]},\n",
				"                                            format='csv', format_options={\"withHeader\":True,\"optimizePerformance\":True}).toDF()\n",
				"station_table = glueContext.create_dynamic_frame_from_options(connection_type='s3',connection_options={'paths':[\"s3://car-sharing-bucket/data/station/\"]},\n",
				"                                            format='csv', format_options={\"withHeader\":True,\"optimizePerformance\":True}).toDF()\n",
				"user_table = glueContext.create_dynamic_frame_from_options(connection_type='s3',connection_options={'paths':[\"s3://car-sharing-bucket/data/user/\"]},\n",
				"                                            format='csv', format_options={\"withHeader\":True,\"optimizePerformance\":True}).toDF()\n",
				"vehicle_table = glueContext.create_dynamic_frame_from_options(connection_type='s3',connection_options={'paths':[\"s3://car-sharing-bucket/data/vehicle/\"]},\n",
				"                                            format='csv', format_options={\"withHeader\":True,\"optimizePerformance\":True}).toDF()\n",
				"vehiclesize_table = glueContext.create_dynamic_frame_from_options(connection_type='s3',connection_options={'paths':[\"s3://car-sharing-bucket/data/vehiclesize/\"]},\n",
				"                                            format='csv', format_options={\"withHeader\":True,\"optimizePerformance\":True}).toDF()"
			]
		},
		{
			"cell_type": "markdown",
			"metadata": {},
			"source": [
				"## Transform Data"
			]
		},
		{
			"cell_type": "markdown",
			"metadata": {},
			"source": [
				"### group"
			]
		},
		{
			"cell_type": "code",
			"execution_count": 3,
			"metadata": {
				"trusted": true,
				"vscode": {
					"languageId": "python_glue_session"
				}
			},
			"outputs": [
				{
					"name": "stdout",
					"output_type": "stream",
					"text": [
						"root\n",
						" |-- groupid: string (nullable = true)\n",
						" |-- groupcode: string (nullable = true)\n",
						" |-- name: string (nullable = true)\n"
					]
				}
			],
			"source": [
				"dim_group = group_table\n",
				"dim_group.printSchema()"
			]
		},
		{
			"cell_type": "code",
			"execution_count": 4,
			"metadata": {
				"trusted": true,
				"vscode": {
					"languageId": "python_glue_session"
				}
			},
			"outputs": [
				{
					"name": "stdout",
					"output_type": "stream",
					"text": [
						"root\n",
						" |-- groupid: integer (nullable = true)\n",
						" |-- groupcode: string (nullable = true)\n",
						" |-- name: string (nullable = true)\n"
					]
				}
			],
			"source": [
				"dim_group = dim_group.withColumn(\"groupid\",dim_group['groupid'].cast(\"int\"))\n",
				"dim_group.printSchema()"
			]
		},
		{
			"cell_type": "markdown",
			"metadata": {},
			"source": [
				"### promotion"
			]
		},
		{
			"cell_type": "code",
			"execution_count": 5,
			"metadata": {
				"trusted": true,
				"vscode": {
					"languageId": "python_glue_session"
				}
			},
			"outputs": [
				{
					"name": "stdout",
					"output_type": "stream",
					"text": [
						"root\n",
						" |-- promotionid: string (nullable = true)\n",
						" |-- promotiontype: string (nullable = true)\n",
						" |-- promotioncode: string (nullable = true)\n",
						" |-- name: string (nullable = true)\n",
						" |-- description: string (nullable = true)\n",
						" |-- effectedtime: string (nullable = true)\n",
						" |-- expiredtime: string (nullable = true)\n"
					]
				}
			],
			"source": [
				"dim_promotion = promotion_table.drop('master_promotionid','require_promotionid')\n",
				"dim_promotion = dim_promotion.na.drop(how='any',subset=['promotioncode'])\n",
				"dim_promotion.printSchema()"
			]
		},
		{
			"cell_type": "code",
			"execution_count": 6,
			"metadata": {
				"trusted": true,
				"vscode": {
					"languageId": "python_glue_session"
				}
			},
			"outputs": [
				{
					"name": "stdout",
					"output_type": "stream",
					"text": [
						"root\n",
						" |-- promotionid: integer (nullable = true)\n",
						" |-- promotiontype: string (nullable = true)\n",
						" |-- promotioncode: string (nullable = true)\n",
						" |-- name: string (nullable = true)\n",
						" |-- description: string (nullable = true)\n",
						" |-- effectedtime: timestamp (nullable = true)\n",
						" |-- expiredtime: timestamp (nullable = true)\n"
					]
				}
			],
			"source": [
				"dim_promotion = dim_promotion.withColumn(\"promotionid\",dim_promotion['promotionid'].cast(\"int\"))\n",
				"dim_promotion = dim_promotion.withColumn(\"effectedtime\",functions.to_timestamp(dim_promotion['effectedtime'], 'yyyy-MM-dd HH:mm:ss'))\n",
				"dim_promotion = dim_promotion.withColumn(\"expiredtime\",functions.to_timestamp(dim_promotion['expiredtime'], 'yyyy-MM-dd HH:mm:ss'))\n",
				"dim_promotion.printSchema()"
			]
		},
		{
			"cell_type": "markdown",
			"metadata": {},
			"source": [
				"### station"
			]
		},
		{
			"cell_type": "code",
			"execution_count": 7,
			"metadata": {
				"trusted": true,
				"vscode": {
					"languageId": "python_glue_session"
				}
			},
			"outputs": [
				{
					"name": "stdout",
					"output_type": "stream",
					"text": [
						"root\n",
						" |-- stationid: string (nullable = true)\n",
						" |-- stationcode: string (nullable = true)\n",
						" |-- stationstatus: string (nullable = true)\n",
						" |-- name: string (nullable = true)\n",
						" |-- latitude: string (nullable = true)\n",
						" |-- longitude: string (nullable = true)\n",
						" |-- district_en: string (nullable = true)\n",
						" |-- province_en: string (nullable = true)\n"
					]
				}
			],
			"source": [
				"dim_station = station_table.drop('zone','availableparking','district_th','province_th','address')\n",
				"dim_station = dim_station.withColumnRenamed('province_en\\r','province_en')\n",
				"dim_station.printSchema()"
			]
		},
		{
			"cell_type": "code",
			"execution_count": 8,
			"metadata": {
				"trusted": true,
				"vscode": {
					"languageId": "python_glue_session"
				}
			},
			"outputs": [
				{
					"name": "stdout",
					"output_type": "stream",
					"text": [
						"root\n",
						" |-- stationid: integer (nullable = true)\n",
						" |-- stationcode: string (nullable = true)\n",
						" |-- stationstatus: string (nullable = true)\n",
						" |-- name: string (nullable = true)\n",
						" |-- latitude: string (nullable = true)\n",
						" |-- longitude: string (nullable = true)\n",
						" |-- district_en: string (nullable = true)\n",
						" |-- province_en: string (nullable = true)\n"
					]
				}
			],
			"source": [
				"dim_station = dim_station.withColumn(\"stationid\",dim_station['stationid'].cast(\"int\"))\n",
				"dim_station.printSchema()"
			]
		},
		{
			"cell_type": "markdown",
			"metadata": {
				"tags": []
			},
			"source": [
				"### user"
			]
		},
		{
			"cell_type": "code",
			"execution_count": 9,
			"metadata": {
				"trusted": true,
				"vscode": {
					"languageId": "python_glue_session"
				}
			},
			"outputs": [
				{
					"name": "stdout",
					"output_type": "stream",
					"text": [
						"root\n",
						" |-- userid: string (nullable = true)\n",
						" |-- activated: string (nullable = true)\n",
						" |-- sex: string (nullable = true)\n",
						" |-- foreigner: string (nullable = true)\n",
						" |-- birthdate: string (nullable = true)\n",
						" |-- registedtime: string (nullable = true)\n"
					]
				}
			],
			"source": [
				"dim_user = user_table.drop('last_login\\r')\n",
				"dim_user.printSchema()"
			]
		},
		{
			"cell_type": "code",
			"execution_count": 10,
			"metadata": {
				"trusted": true,
				"vscode": {
					"languageId": "python_glue_session"
				}
			},
			"outputs": [
				{
					"name": "stdout",
					"output_type": "stream",
					"text": [
						"root\n",
						" |-- userid: integer (nullable = true)\n",
						" |-- activated: string (nullable = true)\n",
						" |-- sex: string (nullable = true)\n",
						" |-- foreigner: string (nullable = true)\n",
						" |-- birthdate: string (nullable = true)\n",
						" |-- registedtime: string (nullable = true)\n"
					]
				}
			],
			"source": [
				"dim_user = dim_user.withColumn(\"userid\",dim_user['userid'].cast(\"int\"))\n",
				"dim_user.printSchema()"
			]
		},
		{
			"cell_type": "markdown",
			"metadata": {},
			"source": [
				"### vehicle"
			]
		},
		{
			"cell_type": "code",
			"execution_count": 13,
			"metadata": {
				"trusted": true,
				"vscode": {
					"languageId": "python_glue_session"
				}
			},
			"outputs": [
				{
					"name": "stdout",
					"output_type": "stream",
					"text": [
						"root\n",
						" |-- vehicleid: string (nullable = true)\n",
						" |-- vehiclecode: string (nullable = true)\n",
						" |-- vehicletype: string (nullable = true)\n",
						" |-- vehiclesystem: string (nullable = true)\n",
						" |-- brand: string (nullable = true)\n",
						" |-- model: string (nullable = true)\n",
						" |-- size: string (nullable = true)\n",
						" |-- type: string (nullable = true)\n"
					]
				}
			],
			"source": [
				"vehiclesize = vehiclesize_table.select('vehicleid','brand','model','size','type').withColumnRenamed('vehicleid','_vehicleid')\n",
				"dim_vehicle = vehicle_table.join(vehiclesize, vehicle_table.vehicleid==vehiclesize._vehicleid, 'left').drop('_vehicleid')\n",
				"dim_vehicle.printSchema()"
			]
		},
		{
			"cell_type": "code",
			"execution_count": 17,
			"metadata": {
				"trusted": true,
				"vscode": {
					"languageId": "python_glue_session"
				}
			},
			"outputs": [
				{
					"name": "stdout",
					"output_type": "stream",
					"text": [
						"root\n",
						" |-- vehicleid: integer (nullable = true)\n",
						" |-- vehiclecode: string (nullable = true)\n",
						" |-- vehicletype: string (nullable = true)\n",
						" |-- vehiclesystem: string (nullable = true)\n",
						" |-- brand: string (nullable = true)\n",
						" |-- model: string (nullable = true)\n",
						" |-- size: string (nullable = true)\n",
						" |-- type: string (nullable = true)\n"
					]
				}
			],
			"source": [
				"dim_vehicle = dim_vehicle.withColumn(\"vehicleid\",dim_vehicle['vehicleid'].cast(\"int\"))\n",
				"dim_vehicle.printSchema()"
			]
		},
		{
			"cell_type": "markdown",
			"metadata": {},
			"source": [
				"### reservation"
			]
		},
		{
			"cell_type": "code",
			"execution_count": 18,
			"metadata": {
				"trusted": true,
				"vscode": {
					"languageId": "python_glue_session"
				}
			},
			"outputs": [
				{
					"name": "stdout",
					"output_type": "stream",
					"text": [
						"root\n",
						" |-- reservationno: string (nullable = true)\n",
						" |-- reservationstate: string (nullable = true)\n",
						" |-- userid: string (nullable = true)\n",
						" |-- groupid: string (nullable = true)\n",
						" |-- vehicleid: string (nullable = true)\n",
						" |-- stationid: string (nullable = true)\n",
						" |-- promotionid: string (nullable = true)\n",
						" |-- reservestarttime: string (nullable = true)\n",
						" |-- reservestoptime: string (nullable = true)\n",
						" |-- reservehours: string (nullable = true)\n",
						" |-- discount: string (nullable = true)\n",
						" |-- totalprice: string (nullable = true)\n",
						" |-- chargetotal: string (nullable = true)\n",
						" |-- category: string (nullable = true)\n",
						" |-- distance: string (nullable = true)\n"
					]
				}
			],
			"source": [
				"distance = distance_table.withColumnRenamed('reservationno','_reservationno').withColumnRenamed('distance\\r','distance')\n",
				"fac_reservation = reservation_table.select('reservationno','reservationstate','userid','groupid','vehicleid','stationid','promotionid','reservestarttime','reservestoptime','reservehours','discount','totalprice','chargetotal','category')\n",
				"fac_reservation = fac_reservation.filter((fac_reservation.groupid!=0)&(fac_reservation.stationid!=0))\n",
				"fac_reservation = fac_reservation.join(distance, fac_reservation.reservationno==distance._reservationno, 'left').drop('_reservationno')\n",
				"fac_reservation.printSchema()"
			]
		},
		{
			"cell_type": "code",
			"execution_count": 19,
			"metadata": {
				"trusted": true,
				"vscode": {
					"languageId": "python_glue_session"
				}
			},
			"outputs": [
				{
					"name": "stdout",
					"output_type": "stream",
					"text": [
						"root\n",
						" |-- reservationno: integer (nullable = true)\n",
						" |-- reservationstate: string (nullable = true)\n",
						" |-- userid: integer (nullable = true)\n",
						" |-- groupid: integer (nullable = true)\n",
						" |-- vehicleid: integer (nullable = true)\n",
						" |-- stationid: integer (nullable = true)\n",
						" |-- promotionid: integer (nullable = true)\n",
						" |-- reservestarttime: timestamp (nullable = true)\n",
						" |-- reservestoptime: timestamp (nullable = true)\n",
						" |-- reservehours: integer (nullable = true)\n",
						" |-- discount: double (nullable = true)\n",
						" |-- totalprice: double (nullable = true)\n",
						" |-- chargetotal: double (nullable = true)\n",
						" |-- category: string (nullable = true)\n",
						" |-- distance: double (nullable = true)\n"
					]
				}
			],
			"source": [
				"fac_reservation = fac_reservation.withColumn(\"reservationno\",fac_reservation['reservationno'].cast(\"int\"))\n",
				"fac_reservation = fac_reservation.withColumn(\"userid\",fac_reservation['userid'].cast(\"int\"))\n",
				"fac_reservation = fac_reservation.withColumn(\"groupid\",fac_reservation['groupid'].cast(\"int\"))\n",
				"fac_reservation = fac_reservation.withColumn(\"vehicleid\",fac_reservation['vehicleid'].cast(\"int\"))\n",
				"fac_reservation = fac_reservation.withColumn(\"stationid\",fac_reservation['stationid'].cast(\"int\"))\n",
				"fac_reservation = fac_reservation.withColumn(\"promotionid\",fac_reservation['promotionid'].cast(\"int\"))\n",
				"fac_reservation = fac_reservation.withColumn(\"reservestarttime\",functions.to_timestamp(fac_reservation['reservestarttime'], 'yyyy-MM-dd HH:mm:ss'))\n",
				"fac_reservation = fac_reservation.withColumn(\"reservestoptime\",functions.to_timestamp(fac_reservation['reservestoptime'], 'yyyy-MM-dd HH:mm:ss'))\n",
				"fac_reservation = fac_reservation.withColumn(\"reservehours\",fac_reservation['reservehours'].cast(\"int\"))\n",
				"fac_reservation = fac_reservation.withColumn(\"totalprice\",fac_reservation['totalprice'].cast(\"double\"))\n",
				"fac_reservation = fac_reservation.withColumn(\"discount\",fac_reservation['discount'].cast(\"double\"))\n",
				"fac_reservation = fac_reservation.withColumn(\"chargetotal\",fac_reservation['chargetotal'].cast(\"double\"))\n",
				"fac_reservation = fac_reservation.withColumn(\"distance\",fac_reservation['distance'].cast(\"double\"))\n",
				"fac_reservation.printSchema()"
			]
		},
		{
			"cell_type": "markdown",
			"metadata": {},
			"source": [
				"## Load Data"
			]
		},
		{
			"cell_type": "markdown",
			"metadata": {},
			"source": [
				"### Load to AWS S3 and Create table in Glue Catalog"
			]
		},
		{
			"cell_type": "code",
			"execution_count": 21,
			"metadata": {
				"editable": true,
				"trusted": true,
				"vscode": {
					"languageId": "python_glue_session"
				}
			},
			"outputs": [
				{
					"name": "stdout",
					"output_type": "stream",
					"text": [
						"\n"
					]
				}
			],
			"source": [
				"def load_data_s3(df,path,database_name,table_name,df_name):\n",
				"    s3output = glueContext.getSink(\n",
				"      path=path,\n",
				"      connection_type=\"s3\",\n",
				"      updateBehavior=\"UPDATE_IN_DATABASE\",\n",
				"      partitionKeys=[],\n",
				"      compression=\"snappy\",\n",
				"      enableUpdateCatalog=True,\n",
				"      transformation_ctx=\"s3output\",\n",
				"    )\n",
				"    s3output.setCatalogInfo(catalogDatabase=database_name, catalogTableName=table_name)\n",
				"    s3output.setFormat(\"glueparquet\")\n",
				"    s3output.writeFrame(DynamicFrame.fromDF(df, glueContext, df_name))"
			]
		},
		{
			"cell_type": "code",
			"execution_count": 22,
			"metadata": {
				"trusted": true,
				"vscode": {
					"languageId": "python_glue_session"
				}
			},
			"outputs": [
				{
					"name": "stdout",
					"output_type": "stream",
					"text": [
						"\n"
					]
				}
			],
			"source": [
				"#dim_group\n",
				"load_data_s3(dim_group,'s3://car-sharing-bucket-haup/transformed_data/dim_group',\"dim_carsharing\",\"dim_group\",\"dim_group\")\n",
				"#dim_promotion\n",
				"load_data_s3(dim_promotion,'s3://car-sharing-bucket-haup/transformed_data/dim_promotion',\"dim_carsharing\",\"dim_promotion\",\"dim_promotion\")\n",
				"#dim_station\n",
				"load_data_s3(dim_station,'s3://car-sharing-bucket-haup/transformed_data/dim_station',\"dim_carsharing\",\"dim_station\",\"dim_station\")\n",
				"#dim_user\n",
				"load_data_s3(dim_user,'s3://car-sharing-bucket-haup/transformed_data/dim_user',\"dim_carsharing\",\"dim_user\",\"dim_user\")\n",
				"#dim_vehicle\n",
				"load_data_s3(dim_vehicle,'s3://car-sharing-bucket-haup/transformed_data/dim_vehicle',\"dim_carsharing\",\"dim_vehicle\",\"dim_vehicle\")\n",
				"#fac_reservation\n",
				"load_data_s3(fac_reservation,'s3://car-sharing-bucket-haup/transformed_data/fac_reservation',\"dim_carsharing\",\"fac_reservation\",\"fac_reservation\")"
			]
		}
	],
	"metadata": {
		"kernelspec": {
			"display_name": "Glue PySpark",
			"language": "python",
			"name": "glue_pyspark"
		},
		"language_info": {
			"codemirror_mode": {
				"name": "python",
				"version": 3
			},
			"file_extension": ".py",
			"mimetype": "text/x-python",
			"name": "Python_Glue_Session",
			"pygments_lexer": "python3"
		},
		"toc-autonumbering": false,
		"toc-showcode": true,
		"toc-showmarkdowntxt": true
	},
	"nbformat": 4,
	"nbformat_minor": 4
}
